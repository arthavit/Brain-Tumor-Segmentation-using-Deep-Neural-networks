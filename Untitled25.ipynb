{
  "nbformat": 4,
  "nbformat_minor": 0,
  "metadata": {
    "colab": {
      "name": "Untitled25.ipynb",
      "provenance": [],
      "authorship_tag": "ABX9TyO9lTvviezdHNtvOhZTE/+j",
      "include_colab_link": true
    },
    "kernelspec": {
      "display_name": "Python 3",
      "name": "python3"
    },
    "accelerator": "GPU"
  },
  "cells": [
    {
      "cell_type": "markdown",
      "metadata": {
        "id": "view-in-github",
        "colab_type": "text"
      },
      "source": [
        "<a href=\"https://colab.research.google.com/github/arthavit/Brain-Tumor-Segmentation-using-Deep-Neural-networks/blob/master/Untitled25.ipynb\" target=\"_parent\"><img src=\"https://colab.research.google.com/assets/colab-badge.svg\" alt=\"Open In Colab\"/></a>"
      ]
    },
    {
      "cell_type": "code",
      "metadata": {
        "id": "CQk_eGTGjm4h",
        "outputId": "63f68340-66a4-4683-ee2f-7c08232f899e",
        "colab": {
          "base_uri": "https://localhost:8080/",
          "height": 105
        }
      },
      "source": [
        "! git clone https://github.com/taigw/brats17"
      ],
      "execution_count": 3,
      "outputs": [
        {
          "output_type": "stream",
          "text": [
            "4/5QGmY24cEzIhEapdBT4LWn2f8OYIM1O9gluv0ww1ShjTCTF4VUBrIbUCloning into 'brats17'...\n",
            "remote: Enumerating objects: 507, done.\u001b[K\n",
            "remote: Total 507 (delta 0), reused 0 (delta 0), pack-reused 507\u001b[K\n",
            "Receiving objects: 100% (507/507), 44.75 MiB | 30.90 MiB/s, done.\n",
            "Resolving deltas: 100% (316/316), done.\n"
          ],
          "name": "stdout"
        }
      ]
    },
    {
      "cell_type": "code",
      "metadata": {
        "id": "fnKu3a5sxe7W",
        "outputId": "899cb583-58f5-409f-952b-1c7436213165",
        "colab": {
          "base_uri": "https://localhost:8080/",
          "height": 34
        }
      },
      "source": [
        "from google.colab import drive\n",
        "drive.mount('/gdrive')\n"
      ],
      "execution_count": 4,
      "outputs": [
        {
          "output_type": "stream",
          "text": [
            "Mounted at /gdrive\n"
          ],
          "name": "stdout"
        }
      ]
    },
    {
      "cell_type": "code",
      "metadata": {
        "id": "DuUurNXQtmXT"
      },
      "source": [
        "import zipfile  \n",
        "dataset_path = \"/gdrive/My Drive/BRATS2015_Training.zip\" \n",
        "zfile = zipfile.ZipFile(dataset_path)\n",
        "zfile.extractall()"
      ],
      "execution_count": 5,
      "outputs": []
    },
    {
      "cell_type": "code",
      "metadata": {
        "id": "94FILXA9eVzl"
      },
      "source": [
        "\n",
        "import zipfile  \n",
        "dataset_path = \"/gdrive/My Drive/BRATS2015_Testing.zip\"  \n",
        "zfile = zipfile.ZipFile(dataset_path)\n",
        "zfile.extractall()"
      ],
      "execution_count": 6,
      "outputs": []
    },
    {
      "cell_type": "code",
      "metadata": {
        "id": "8UfoLl1tg1Qb",
        "outputId": "05f685b4-38cd-46d0-caf2-c41a9eedcc28",
        "colab": {
          "base_uri": "https://localhost:8080/",
          "height": 800
        }
      },
      "source": [
        "import tensorflow as tf\n",
        "print(tf.__version__)\n",
        "!pip install tensorflow==1.5.0"
      ],
      "execution_count": 7,
      "outputs": [
        {
          "output_type": "stream",
          "text": [
            "2.3.0\n",
            "Collecting tensorflow==1.5.0\n",
            "\u001b[?25l  Downloading https://files.pythonhosted.org/packages/04/79/a37d0b373757b4d283c674a64127bd8864d69f881c639b1ee5953e2d9301/tensorflow-1.5.0-cp36-cp36m-manylinux1_x86_64.whl (44.4MB)\n",
            "\u001b[K     |████████████████████████████████| 44.4MB 72kB/s \n",
            "\u001b[?25hRequirement already satisfied: absl-py>=0.1.6 in /usr/local/lib/python3.6/dist-packages (from tensorflow==1.5.0) (0.10.0)\n",
            "Collecting tensorflow-tensorboard<1.6.0,>=1.5.0\n",
            "\u001b[?25l  Downloading https://files.pythonhosted.org/packages/cc/fa/91c06952517b4f1bc075545b062a4112e30cebe558a6b962816cb33efa27/tensorflow_tensorboard-1.5.1-py3-none-any.whl (3.0MB)\n",
            "\u001b[K     |████████████████████████████████| 3.0MB 34.9MB/s \n",
            "\u001b[?25hRequirement already satisfied: wheel>=0.26 in /usr/local/lib/python3.6/dist-packages (from tensorflow==1.5.0) (0.35.1)\n",
            "Requirement already satisfied: six>=1.10.0 in /usr/local/lib/python3.6/dist-packages (from tensorflow==1.5.0) (1.15.0)\n",
            "Requirement already satisfied: protobuf>=3.4.0 in /usr/local/lib/python3.6/dist-packages (from tensorflow==1.5.0) (3.12.4)\n",
            "Requirement already satisfied: numpy>=1.12.1 in /usr/local/lib/python3.6/dist-packages (from tensorflow==1.5.0) (1.18.5)\n",
            "Requirement already satisfied: werkzeug>=0.11.10 in /usr/local/lib/python3.6/dist-packages (from tensorflow-tensorboard<1.6.0,>=1.5.0->tensorflow==1.5.0) (1.0.1)\n",
            "Collecting html5lib==0.9999999\n",
            "\u001b[?25l  Downloading https://files.pythonhosted.org/packages/ae/ae/bcb60402c60932b32dfaf19bb53870b29eda2cd17551ba5639219fb5ebf9/html5lib-0.9999999.tar.gz (889kB)\n",
            "\u001b[K     |████████████████████████████████| 890kB 39.6MB/s \n",
            "\u001b[?25hRequirement already satisfied: markdown>=2.6.8 in /usr/local/lib/python3.6/dist-packages (from tensorflow-tensorboard<1.6.0,>=1.5.0->tensorflow==1.5.0) (3.2.2)\n",
            "Collecting bleach==1.5.0\n",
            "  Downloading https://files.pythonhosted.org/packages/33/70/86c5fec937ea4964184d4d6c4f0b9551564f821e1c3575907639036d9b90/bleach-1.5.0-py2.py3-none-any.whl\n",
            "Requirement already satisfied: setuptools in /usr/local/lib/python3.6/dist-packages (from protobuf>=3.4.0->tensorflow==1.5.0) (50.3.0)\n",
            "Requirement already satisfied: importlib-metadata; python_version < \"3.8\" in /usr/local/lib/python3.6/dist-packages (from markdown>=2.6.8->tensorflow-tensorboard<1.6.0,>=1.5.0->tensorflow==1.5.0) (2.0.0)\n",
            "Requirement already satisfied: zipp>=0.5 in /usr/local/lib/python3.6/dist-packages (from importlib-metadata; python_version < \"3.8\"->markdown>=2.6.8->tensorflow-tensorboard<1.6.0,>=1.5.0->tensorflow==1.5.0) (3.2.0)\n",
            "Building wheels for collected packages: html5lib\n",
            "  Building wheel for html5lib (setup.py) ... \u001b[?25l\u001b[?25hdone\n",
            "  Created wheel for html5lib: filename=html5lib-0.9999999-cp36-none-any.whl size=107220 sha256=8c13547035311ca47a2f95e636a13df710fb69df0cc0d88bb059155ce385f5b5\n",
            "  Stored in directory: /root/.cache/pip/wheels/50/ae/f9/d2b189788efcf61d1ee0e36045476735c838898eef1cad6e29\n",
            "Successfully built html5lib\n",
            "Installing collected packages: html5lib, bleach, tensorflow-tensorboard, tensorflow\n",
            "  Found existing installation: html5lib 1.0.1\n",
            "    Uninstalling html5lib-1.0.1:\n",
            "      Successfully uninstalled html5lib-1.0.1\n",
            "  Found existing installation: bleach 3.2.1\n",
            "    Uninstalling bleach-3.2.1:\n",
            "      Successfully uninstalled bleach-3.2.1\n",
            "  Found existing installation: tensorflow 2.3.0\n",
            "    Uninstalling tensorflow-2.3.0:\n",
            "      Successfully uninstalled tensorflow-2.3.0\n",
            "Successfully installed bleach-1.5.0 html5lib-0.9999999 tensorflow-1.5.0 tensorflow-tensorboard-1.5.1\n"
          ],
          "name": "stdout"
        },
        {
          "output_type": "display_data",
          "data": {
            "application/vnd.colab-display-data+json": {
              "pip_warning": {
                "packages": [
                  "tensorboard",
                  "tensorflow"
                ]
              }
            }
          },
          "metadata": {
            "tags": []
          }
        }
      ]
    },
    {
      "cell_type": "code",
      "metadata": {
        "id": "SqMFpmc6uCjQ",
        "outputId": "f94b86c8-fb07-4504-a1bb-3c473dad239a",
        "colab": {
          "base_uri": "https://localhost:8080/",
          "height": 125
        }
      },
      "source": [
        "!pip install simpleitk\n"
      ],
      "execution_count": 8,
      "outputs": [
        {
          "output_type": "stream",
          "text": [
            "Collecting simpleitk\n",
            "\u001b[?25l  Downloading https://files.pythonhosted.org/packages/22/c6/0319c4efabb6e7f5650bbd41e1e5ec5c89ca0e857a9aaf287c29ac8c266c/SimpleITK-2.0.0-cp36-cp36m-manylinux1_x86_64.whl (44.9MB)\n",
            "\u001b[K     |████████████████████████████████| 44.9MB 64kB/s \n",
            "\u001b[?25hInstalling collected packages: simpleitk\n",
            "Successfully installed simpleitk-2.0.0\n"
          ],
          "name": "stdout"
        }
      ]
    },
    {
      "cell_type": "code",
      "metadata": {
        "id": "4uAsBShgB3v_"
      },
      "source": [
        "import SimpleITK as sitk  # For loading the dataset\n",
        "import numpy as np  # For data manipulation"
      ],
      "execution_count": 9,
      "outputs": []
    },
    {
      "cell_type": "code",
      "metadata": {
        "id": "GwMOyInwsmaT",
        "outputId": "b956d191-0668-4883-e76e-3c27ddf73321",
        "colab": {
          "base_uri": "https://localhost:8080/",
          "height": 303
        }
      },
      "source": [
        "!pip install niftynet==0.2.0"
      ],
      "execution_count": 10,
      "outputs": [
        {
          "output_type": "stream",
          "text": [
            "Collecting niftynet==0.2.0\n",
            "\u001b[?25l  Downloading https://files.pythonhosted.org/packages/f6/1f/18d08cb77cf7405be1527136713353ebce92272f18009d5aa056d3e10c36/NiftyNet-0.2.0-py2.py3-none-any.whl (186kB)\n",
            "\r\u001b[K     |█▊                              | 10kB 16.2MB/s eta 0:00:01\r\u001b[K     |███▌                            | 20kB 1.7MB/s eta 0:00:01\r\u001b[K     |█████▎                          | 30kB 2.3MB/s eta 0:00:01\r\u001b[K     |███████                         | 40kB 2.6MB/s eta 0:00:01\r\u001b[K     |████████▉                       | 51kB 2.0MB/s eta 0:00:01\r\u001b[K     |██████████▌                     | 61kB 2.3MB/s eta 0:00:01\r\u001b[K     |████████████▎                   | 71kB 2.5MB/s eta 0:00:01\r\u001b[K     |██████████████                  | 81kB 2.7MB/s eta 0:00:01\r\u001b[K     |███████████████▉                | 92kB 2.9MB/s eta 0:00:01\r\u001b[K     |█████████████████▋              | 102kB 2.8MB/s eta 0:00:01\r\u001b[K     |███████████████████▍            | 112kB 2.8MB/s eta 0:00:01\r\u001b[K     |█████████████████████           | 122kB 2.8MB/s eta 0:00:01\r\u001b[K     |██████████████████████▉         | 133kB 2.8MB/s eta 0:00:01\r\u001b[K     |████████████████████████▋       | 143kB 2.8MB/s eta 0:00:01\r\u001b[K     |██████████████████████████▍     | 153kB 2.8MB/s eta 0:00:01\r\u001b[K     |████████████████████████████▏   | 163kB 2.8MB/s eta 0:00:01\r\u001b[K     |██████████████████████████████  | 174kB 2.8MB/s eta 0:00:01\r\u001b[K     |███████████████████████████████▋| 184kB 2.8MB/s eta 0:00:01\r\u001b[K     |████████████████████████████████| 194kB 2.8MB/s \n",
            "\u001b[?25hRequirement already satisfied: pillow in /usr/local/lib/python3.6/dist-packages (from niftynet==0.2.0) (7.0.0)\n",
            "Requirement already satisfied: six>=1.10 in /usr/local/lib/python3.6/dist-packages (from niftynet==0.2.0) (1.15.0)\n",
            "Requirement already satisfied: numpy>=1.11 in /usr/local/lib/python3.6/dist-packages (from niftynet==0.2.0) (1.18.5)\n",
            "Requirement already satisfied: nibabel>=2.1.0 in /usr/local/lib/python3.6/dist-packages (from niftynet==0.2.0) (3.0.2)\n",
            "Requirement already satisfied: scipy>=0.18 in /usr/local/lib/python3.6/dist-packages (from niftynet==0.2.0) (1.4.1)\n",
            "Requirement already satisfied: pandas in /usr/local/lib/python3.6/dist-packages (from niftynet==0.2.0) (1.1.2)\n",
            "Collecting configparser\n",
            "  Downloading https://files.pythonhosted.org/packages/08/b2/ef713e0e67f6e7ec7d59aea3ee78d05b39c15930057e724cc6d362a8c3bb/configparser-5.0.1-py3-none-any.whl\n",
            "Requirement already satisfied: python-dateutil>=2.7.3 in /usr/local/lib/python3.6/dist-packages (from pandas->niftynet==0.2.0) (2.8.1)\n",
            "Requirement already satisfied: pytz>=2017.2 in /usr/local/lib/python3.6/dist-packages (from pandas->niftynet==0.2.0) (2018.9)\n",
            "Installing collected packages: configparser, niftynet\n",
            "Successfully installed configparser-5.0.1 niftynet-0.2.0\n"
          ],
          "name": "stdout"
        }
      ]
    },
    {
      "cell_type": "code",
      "metadata": {
        "id": "v41TDHrmKvvc",
        "outputId": "14a44be9-2e52-4d01-b3a0-910041b03f87",
        "colab": {
          "base_uri": "https://localhost:8080/",
          "height": 1000
        }
      },
      "source": [
        "!python /content/brats17/test.py  /content/brats17/config15/test_all_class.txt"
      ],
      "execution_count": 22,
      "outputs": [
        {
          "output_type": "stream",
          "text": [
            "/usr/local/lib/python3.6/dist-packages/tensorflow/python/framework/dtypes.py:493: FutureWarning: Passing (type, 1) or '1type' as a synonym of type is deprecated; in a future version of numpy, it will be understood as (type, (1,)) / '(1,)type'.\n",
            "  _np_qint8 = np.dtype([(\"qint8\", np.int8, 1)])\n",
            "/usr/local/lib/python3.6/dist-packages/tensorflow/python/framework/dtypes.py:494: FutureWarning: Passing (type, 1) or '1type' as a synonym of type is deprecated; in a future version of numpy, it will be understood as (type, (1,)) / '(1,)type'.\n",
            "  _np_quint8 = np.dtype([(\"quint8\", np.uint8, 1)])\n",
            "/usr/local/lib/python3.6/dist-packages/tensorflow/python/framework/dtypes.py:495: FutureWarning: Passing (type, 1) or '1type' as a synonym of type is deprecated; in a future version of numpy, it will be understood as (type, (1,)) / '(1,)type'.\n",
            "  _np_qint16 = np.dtype([(\"qint16\", np.int16, 1)])\n",
            "/usr/local/lib/python3.6/dist-packages/tensorflow/python/framework/dtypes.py:496: FutureWarning: Passing (type, 1) or '1type' as a synonym of type is deprecated; in a future version of numpy, it will be understood as (type, (1,)) / '(1,)type'.\n",
            "  _np_quint16 = np.dtype([(\"quint16\", np.uint16, 1)])\n",
            "/usr/local/lib/python3.6/dist-packages/tensorflow/python/framework/dtypes.py:497: FutureWarning: Passing (type, 1) or '1type' as a synonym of type is deprecated; in a future version of numpy, it will be understood as (type, (1,)) / '(1,)type'.\n",
            "  _np_qint32 = np.dtype([(\"qint32\", np.int32, 1)])\n",
            "/usr/local/lib/python3.6/dist-packages/tensorflow/python/framework/dtypes.py:502: FutureWarning: Passing (type, 1) or '1type' as a synonym of type is deprecated; in a future version of numpy, it will be understood as (type, (1,)) / '(1,)type'.\n",
            "  np_resource = np.dtype([(\"resource\", np.ubyte, 1)])\n",
            "data data_root /content/Testing /content/Testing\n",
            "data save_folder result15 result15\n",
            "data data_names /content/brats17/config15/test_names_temp.txt /content/brats17/config15/test_names_temp.txt\n",
            "data modality_postfix [Flair, T1, T1c, T2] ['Flair', 'T1', 'T1c', 'T2']\n",
            "data file_postfix mha mha\n",
            "network1ax net_type MSNet MSNet\n",
            "network1ax net_name MSNet_WT32 MSNet_WT32\n",
            "network1ax downsample_twice True True\n",
            "network1ax data_shape [19, 180, 160, 4] [19, 180, 160, 4]\n",
            "network1ax label_shape [11, 180, 160, 1] [11, 180, 160, 1]\n",
            "network1ax class_num 2 2\n",
            "network1ax model_file /content/brats17/model15/msnet_wt32_10000.ckpt /content/brats17/model15/msnet_wt32_10000.ckpt\n",
            "network1sg net_type MSNet MSNet\n",
            "network1sg net_name MSNet_WT32sg MSNet_WT32sg\n",
            "network1sg downsample_twice True True\n",
            "network1sg data_shape [19, 160, 180, 4] [19, 160, 180, 4]\n",
            "network1sg label_shape [11, 160, 180, 1] [11, 160, 180, 1]\n",
            "network1sg class_num 2 2\n",
            "network1sg model_file /content/brats17/model15/msnet_wt32sg_5000.ckpt /content/brats17/model15/msnet_wt32sg_5000.ckpt\n",
            "network1cr net_type MSNet MSNet\n",
            "network1cr net_name MSNet_WT32cr MSNet_WT32cr\n",
            "network1cr downsample_twice True True\n",
            "network1cr data_shape [19, 160, 160, 4] [19, 160, 160, 4]\n",
            "network1cr label_shape [11, 160, 160, 1] [11, 160, 160, 1]\n",
            "network1cr class_num 2 2\n",
            "network1cr model_file /content/brats17/model15/msnet_wt32cr_5000.ckpt /content/brats17/model15/msnet_wt32cr_5000.ckpt\n",
            "network2ax net_type MSNet MSNet\n",
            "network2ax net_name MSNet_TC32 MSNet_TC32\n",
            "network2ax downsample_twice True True\n",
            "network2ax data_shape [19, 96, 96, 4] [19, 96, 96, 4]\n",
            "network2ax label_shape [11, 96, 96, 1] [11, 96, 96, 1]\n",
            "network2ax class_num 2 2\n",
            "network2ax model_file /content/brats17/model15/msnet_tc32_20000.ckpt /content/brats17/model15/msnet_tc32_20000.ckpt\n",
            "network2sg net_type MSNet MSNet\n",
            "network2sg net_name MSNet_TC32sg MSNet_TC32sg\n",
            "network2sg downsample_twice True True\n",
            "network2sg data_shape [19, 96, 96, 4] [19, 96, 96, 4]\n",
            "network2sg label_shape [11, 96, 96, 1] [11, 96, 96, 1]\n",
            "network2sg class_num 2 2\n",
            "network2sg model_file /content/brats17/model15/msnet_tc32sg_5000.ckpt /content/brats17/model15/msnet_tc32sg_5000.ckpt\n",
            "network2cr net_type MSNet MSNet\n",
            "network2cr net_name MSNet_TC32cr MSNet_TC32cr\n",
            "network2cr downsample_twice True True\n",
            "network2cr data_shape [19, 96, 96, 4] [19, 96, 96, 4]\n",
            "network2cr label_shape [11, 96, 96, 1] [11, 96, 96, 1]\n",
            "network2cr class_num 2 2\n",
            "network2cr model_file /content/brats17/model15/msnet_tc32cr_5000.ckpt /content/brats17/model15/msnet_tc32cr_5000.ckpt\n",
            "network3ax net_type MSNet MSNet\n",
            "network3ax net_name MSNet_EN32 MSNet_EN32\n",
            "network3ax downsample_twice False False\n",
            "network3ax data_shape [19, 96, 96, 4] [19, 96, 96, 4]\n",
            "network3ax label_shape [11, 96, 96, 1] [11, 96, 96, 1]\n",
            "network3ax class_num 3 3\n",
            "network3ax model_file /content/brats17/model15/msnet_en32_20000.ckpt /content/brats17/model15/msnet_en32_20000.ckpt\n",
            "network3sg net_type MSNet MSNet\n",
            "network3sg net_name MSNet_EN32sg MSNet_EN32sg\n",
            "network3sg downsample_twice False False\n",
            "network3sg data_shape [19, 96, 96, 4] [19, 96, 96, 4]\n",
            "network3sg label_shape [11, 96, 96, 1] [11, 96, 96, 1]\n",
            "network3sg class_num 3 3\n",
            "network3sg model_file /content/brats17/model15/msnet_en32sg_5000.ckpt /content/brats17/model15/msnet_en32sg_5000.ckpt\n",
            "network3cr net_type MSNet MSNet\n",
            "network3cr net_name MSNet_EN32cr MSNet_EN32cr\n",
            "network3cr downsample_twice False False\n",
            "network3cr data_shape [19, 96, 96, 4] [19, 96, 96, 4]\n",
            "network3cr label_shape [11, 96, 96, 1] [11, 96, 96, 1]\n",
            "network3cr class_num 3 3\n",
            "network3cr model_file /content/brats17/model15/msnet_en32cr_5000.ckpt /content/brats17/model15/msnet_en32cr_5000.ckpt\n",
            "testing test_slice_direction all all\n",
            "2020-10-21 05:29:35.594774: I tensorflow/core/platform/cpu_feature_guard.cc:137] Your CPU supports instructions that this TensorFlow binary was not compiled to use: SSE4.1 SSE4.2 AVX AVX2 FMA\n",
            "Traceback (most recent call last):\n",
            "  File \"/content/brats17/test.py\", line 459, in <module>\n",
            "    test(config_file)\n",
            "  File \"/content/brats17/test.py\", line 299, in test\n",
            "    dataloader.load_data()\n",
            "  File \"/content/brats17/util/data_loader.py\", line 101, in load_data\n",
            "    volume, volume_name = self.__load_one_volume(self.patient_names[i], self.modality_postfix[mod_idx])\n",
            "  File \"/content/brats17/util/data_loader.py\", line 73, in __load_one_volume\n",
            "    img_file_dirs = os.listdir(patient_dir)\n",
            "FileNotFoundError: [Errno 2] No such file or directory: '/content/Testing/HGG/brats_tcia_pat417_0001'\n"
          ],
          "name": "stdout"
        }
      ]
    },
    {
      "cell_type": "code",
      "metadata": {
        "id": "31qmbW3AjllO"
      },
      "source": [
        ""
      ],
      "execution_count": null,
      "outputs": []
    },
    {
      "cell_type": "code",
      "metadata": {
        "id": "5PPAlBo6hJcj",
        "outputId": "62d1ed9e-dd4f-4b53-bbab-680be5e91541",
        "colab": {
          "base_uri": "https://localhost:8080/",
          "height": 961
        }
      },
      "source": [
        "!python /content/brats17/train.py /content/brats17/config15/train_wt_ax.txt\n",
        "\n"
      ],
      "execution_count": 14,
      "outputs": [
        {
          "output_type": "stream",
          "text": [
            "/usr/local/lib/python3.6/dist-packages/tensorflow/python/framework/dtypes.py:493: FutureWarning: Passing (type, 1) or '1type' as a synonym of type is deprecated; in a future version of numpy, it will be understood as (type, (1,)) / '(1,)type'.\n",
            "  _np_qint8 = np.dtype([(\"qint8\", np.int8, 1)])\n",
            "/usr/local/lib/python3.6/dist-packages/tensorflow/python/framework/dtypes.py:494: FutureWarning: Passing (type, 1) or '1type' as a synonym of type is deprecated; in a future version of numpy, it will be understood as (type, (1,)) / '(1,)type'.\n",
            "  _np_quint8 = np.dtype([(\"quint8\", np.uint8, 1)])\n",
            "/usr/local/lib/python3.6/dist-packages/tensorflow/python/framework/dtypes.py:495: FutureWarning: Passing (type, 1) or '1type' as a synonym of type is deprecated; in a future version of numpy, it will be understood as (type, (1,)) / '(1,)type'.\n",
            "  _np_qint16 = np.dtype([(\"qint16\", np.int16, 1)])\n",
            "/usr/local/lib/python3.6/dist-packages/tensorflow/python/framework/dtypes.py:496: FutureWarning: Passing (type, 1) or '1type' as a synonym of type is deprecated; in a future version of numpy, it will be understood as (type, (1,)) / '(1,)type'.\n",
            "  _np_quint16 = np.dtype([(\"quint16\", np.uint16, 1)])\n",
            "/usr/local/lib/python3.6/dist-packages/tensorflow/python/framework/dtypes.py:497: FutureWarning: Passing (type, 1) or '1type' as a synonym of type is deprecated; in a future version of numpy, it will be understood as (type, (1,)) / '(1,)type'.\n",
            "  _np_qint32 = np.dtype([(\"qint32\", np.int32, 1)])\n",
            "/usr/local/lib/python3.6/dist-packages/tensorflow/python/framework/dtypes.py:502: FutureWarning: Passing (type, 1) or '1type' as a synonym of type is deprecated; in a future version of numpy, it will be understood as (type, (1,)) / '(1,)type'.\n",
            "  np_resource = np.dtype([(\"resource\", np.ubyte, 1)])\n",
            "data data_root /content/Training /content/Training\n",
            "data data_names /content/brats17/config15/train_names_all.txt /content/brats17/config15/train_names_all.txt\n",
            "data modality_postfix [Flair, T1, T1c, T2] ['Flair', 'T1', 'T1c', 'T2']\n",
            "data label_postfix OT OT\n",
            "data file_postfix mha mha\n",
            "data with_ground_truth True True\n",
            "data batch_size 5 5\n",
            "data data_shape [19, 144, 144, 4] [19, 144, 144, 4]\n",
            "data label_shape [11, 144, 144, 1] [11, 144, 144, 1]\n",
            "data label_convert_source [0, 1, 2, 3, 4] [0, 1, 2, 3, 4]\n",
            "data label_convert_target [0, 1, 1, 1, 1] [0, 1, 1, 1, 1]\n",
            "data batch_slice_direction axial axial\n",
            "data train_with_roi_patch False False\n",
            "data label_roi_mask  None\n",
            "data roi_patch_margin  None\n",
            "network net_type MSNet MSNet\n",
            "network net_name MSNet_WT32 MSNet_WT32\n",
            "network downsample_twice True True\n",
            "network class_num 2 2\n",
            "training learning_rate 1e-3 0.001\n",
            "training decay 1e-7 1e-07\n",
            "training maximal_iteration 20000 20000\n",
            "training snapshot_iteration 5000 5000\n",
            "training start_iteration 0 0\n",
            "training test_iteration 100 100\n",
            "training test_step 10 10\n",
            "training model_pre_trained  None\n",
            "training model_save_prefix /content/brats17/model15/msnet_wt32 /content/brats17/model15/msnet_wt32\n",
            "size of predicty: Tensor(\"MSNet_WT32/final_pred/conv:0\", shape=(5, 11, 144, 144, 2), dtype=float32)\n",
            "2020-10-21 06:39:38.269908: I tensorflow/core/platform/cpu_feature_guard.cc:137] Your CPU supports instructions that this TensorFlow binary was not compiled to use: SSE4.1 SSE4.2 AVX AVX2 FMA\n",
            "Traceback (most recent call last):\n",
            "  File \"/content/brats17/train.py\", line 123, in <module>\n",
            "    train(config_file)\n",
            "  File \"/content/brats17/train.py\", line 82, in train\n",
            "    dataloader.load_data()\n",
            "  File \"/content/brats17/util/data_loader.py\", line 121, in load_data\n",
            "    label, _ = self.__load_one_volume(self.patient_names[i], self.label_postfix)\n",
            "  File \"/content/brats17/util/data_loader.py\", line 79, in __load_one_volume\n",
            "    assert(volume_name is not None)\n",
            "AssertionError\n"
          ],
          "name": "stdout"
        }
      ]
    }
  ]
}