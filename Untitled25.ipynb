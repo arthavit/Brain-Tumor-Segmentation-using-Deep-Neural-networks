{
  "nbformat": 4,
  "nbformat_minor": 0,
  "metadata": {
    "colab": {
      "name": "Untitled25.ipynb",
      "provenance": [],
      "authorship_tag": "ABX9TyOZa/qJiwvJJlH0cii0EhCd",
      "include_colab_link": true
    },
    "kernelspec": {
      "display_name": "Python 3",
      "name": "python3"
    },
    "accelerator": "GPU"
  },
  "cells": [
    {
      "cell_type": "markdown",
      "metadata": {
        "id": "view-in-github",
        "colab_type": "text"
      },
      "source": [
        "<a href=\"https://colab.research.google.com/github/arthavit/Brain-Tumor-Segmentation-using-Deep-Neural-networks/blob/master/Untitled25.ipynb\" target=\"_parent\"><img src=\"https://colab.research.google.com/assets/colab-badge.svg\" alt=\"Open In Colab\"/></a>"
      ]
    },
    {
      "cell_type": "code",
      "metadata": {
        "id": "fnKu3a5sxe7W",
        "outputId": "1b15d105-cdf3-4021-e671-569beebce9c7",
        "colab": {
          "base_uri": "https://localhost:8080/",
          "height": 54
        }
      },
      "source": [
        "from google.colab import drive\n",
        "drive.mount('/gdrive')\n"
      ],
      "execution_count": 16,
      "outputs": [
        {
          "output_type": "stream",
          "text": [
            "Drive already mounted at /gdrive; to attempt to forcibly remount, call drive.mount(\"/gdrive\", force_remount=True).\n"
          ],
          "name": "stdout"
        }
      ]
    },
    {
      "cell_type": "code",
      "metadata": {
        "id": "DuUurNXQtmXT"
      },
      "source": [
        "import zipfile  \n",
        "dataset_path = \"/gdrive/My Drive/BRATS2015_Training.zip\" \n",
        "zfile = zipfile.ZipFile(dataset_path)\n",
        "zfile.extractall()"
      ],
      "execution_count": null,
      "outputs": []
    },
    {
      "cell_type": "code",
      "metadata": {
        "id": "94FILXA9eVzl"
      },
      "source": [
        "\n",
        "import zipfile  \n",
        "dataset_path = \"/gdrive/My Drive/BRATS2015_Testing.zip\"  \n",
        "zfile = zipfile.ZipFile(dataset_path)\n",
        "zfile.extractall()"
      ],
      "execution_count": null,
      "outputs": []
    },
    {
      "cell_type": "code",
      "metadata": {
        "id": "8UfoLl1tg1Qb"
      },
      "source": [
        "import tensorflow as tf\n",
        "print(tf.__version__)\n",
        "!pip install tensorflow==1.5.0"
      ],
      "execution_count": null,
      "outputs": []
    },
    {
      "cell_type": "code",
      "metadata": {
        "id": "SqMFpmc6uCjQ"
      },
      "source": [
        "!pip install simpleitk\n"
      ],
      "execution_count": null,
      "outputs": []
    },
    {
      "cell_type": "code",
      "metadata": {
        "id": "4uAsBShgB3v_"
      },
      "source": [
        "import SimpleITK as sitk  # For loading the dataset\n",
        "import numpy as np  # For data manipulation"
      ],
      "execution_count": null,
      "outputs": []
    },
    {
      "cell_type": "code",
      "metadata": {
        "id": "GwMOyInwsmaT"
      },
      "source": [
        "!pip install niftynet==0.2.0"
      ],
      "execution_count": null,
      "outputs": []
    },
    {
      "cell_type": "code",
      "metadata": {
        "id": "v41TDHrmKvvc",
        "outputId": "14a44be9-2e52-4d01-b3a0-910041b03f87",
        "colab": {
          "base_uri": "https://localhost:8080/",
          "height": 1000
        }
      },
      "source": [
        "!python /content/brats17/test.py  /content/brats17/config15/test_all_class.txt"
      ],
      "execution_count": 22,
      "outputs": [
        {
          "output_type": "stream",
          "text": [
            "/usr/local/lib/python3.6/dist-packages/tensorflow/python/framework/dtypes.py:493: FutureWarning: Passing (type, 1) or '1type' as a synonym of type is deprecated; in a future version of numpy, it will be understood as (type, (1,)) / '(1,)type'.\n",
            "  _np_qint8 = np.dtype([(\"qint8\", np.int8, 1)])\n",
            "/usr/local/lib/python3.6/dist-packages/tensorflow/python/framework/dtypes.py:494: FutureWarning: Passing (type, 1) or '1type' as a synonym of type is deprecated; in a future version of numpy, it will be understood as (type, (1,)) / '(1,)type'.\n",
            "  _np_quint8 = np.dtype([(\"quint8\", np.uint8, 1)])\n",
            "/usr/local/lib/python3.6/dist-packages/tensorflow/python/framework/dtypes.py:495: FutureWarning: Passing (type, 1) or '1type' as a synonym of type is deprecated; in a future version of numpy, it will be understood as (type, (1,)) / '(1,)type'.\n",
            "  _np_qint16 = np.dtype([(\"qint16\", np.int16, 1)])\n",
            "/usr/local/lib/python3.6/dist-packages/tensorflow/python/framework/dtypes.py:496: FutureWarning: Passing (type, 1) or '1type' as a synonym of type is deprecated; in a future version of numpy, it will be understood as (type, (1,)) / '(1,)type'.\n",
            "  _np_quint16 = np.dtype([(\"quint16\", np.uint16, 1)])\n",
            "/usr/local/lib/python3.6/dist-packages/tensorflow/python/framework/dtypes.py:497: FutureWarning: Passing (type, 1) or '1type' as a synonym of type is deprecated; in a future version of numpy, it will be understood as (type, (1,)) / '(1,)type'.\n",
            "  _np_qint32 = np.dtype([(\"qint32\", np.int32, 1)])\n",
            "/usr/local/lib/python3.6/dist-packages/tensorflow/python/framework/dtypes.py:502: FutureWarning: Passing (type, 1) or '1type' as a synonym of type is deprecated; in a future version of numpy, it will be understood as (type, (1,)) / '(1,)type'.\n",
            "  np_resource = np.dtype([(\"resource\", np.ubyte, 1)])\n",
            "data data_root /content/Testing /content/Testing\n",
            "data save_folder result15 result15\n",
            "data data_names /content/brats17/config15/test_names_temp.txt /content/brats17/config15/test_names_temp.txt\n",
            "data modality_postfix [Flair, T1, T1c, T2] ['Flair', 'T1', 'T1c', 'T2']\n",
            "data file_postfix mha mha\n",
            "network1ax net_type MSNet MSNet\n",
            "network1ax net_name MSNet_WT32 MSNet_WT32\n",
            "network1ax downsample_twice True True\n",
            "network1ax data_shape [19, 180, 160, 4] [19, 180, 160, 4]\n",
            "network1ax label_shape [11, 180, 160, 1] [11, 180, 160, 1]\n",
            "network1ax class_num 2 2\n",
            "network1ax model_file /content/brats17/model15/msnet_wt32_10000.ckpt /content/brats17/model15/msnet_wt32_10000.ckpt\n",
            "network1sg net_type MSNet MSNet\n",
            "network1sg net_name MSNet_WT32sg MSNet_WT32sg\n",
            "network1sg downsample_twice True True\n",
            "network1sg data_shape [19, 160, 180, 4] [19, 160, 180, 4]\n",
            "network1sg label_shape [11, 160, 180, 1] [11, 160, 180, 1]\n",
            "network1sg class_num 2 2\n",
            "network1sg model_file /content/brats17/model15/msnet_wt32sg_5000.ckpt /content/brats17/model15/msnet_wt32sg_5000.ckpt\n",
            "network1cr net_type MSNet MSNet\n",
            "network1cr net_name MSNet_WT32cr MSNet_WT32cr\n",
            "network1cr downsample_twice True True\n",
            "network1cr data_shape [19, 160, 160, 4] [19, 160, 160, 4]\n",
            "network1cr label_shape [11, 160, 160, 1] [11, 160, 160, 1]\n",
            "network1cr class_num 2 2\n",
            "network1cr model_file /content/brats17/model15/msnet_wt32cr_5000.ckpt /content/brats17/model15/msnet_wt32cr_5000.ckpt\n",
            "network2ax net_type MSNet MSNet\n",
            "network2ax net_name MSNet_TC32 MSNet_TC32\n",
            "network2ax downsample_twice True True\n",
            "network2ax data_shape [19, 96, 96, 4] [19, 96, 96, 4]\n",
            "network2ax label_shape [11, 96, 96, 1] [11, 96, 96, 1]\n",
            "network2ax class_num 2 2\n",
            "network2ax model_file /content/brats17/model15/msnet_tc32_20000.ckpt /content/brats17/model15/msnet_tc32_20000.ckpt\n",
            "network2sg net_type MSNet MSNet\n",
            "network2sg net_name MSNet_TC32sg MSNet_TC32sg\n",
            "network2sg downsample_twice True True\n",
            "network2sg data_shape [19, 96, 96, 4] [19, 96, 96, 4]\n",
            "network2sg label_shape [11, 96, 96, 1] [11, 96, 96, 1]\n",
            "network2sg class_num 2 2\n",
            "network2sg model_file /content/brats17/model15/msnet_tc32sg_5000.ckpt /content/brats17/model15/msnet_tc32sg_5000.ckpt\n",
            "network2cr net_type MSNet MSNet\n",
            "network2cr net_name MSNet_TC32cr MSNet_TC32cr\n",
            "network2cr downsample_twice True True\n",
            "network2cr data_shape [19, 96, 96, 4] [19, 96, 96, 4]\n",
            "network2cr label_shape [11, 96, 96, 1] [11, 96, 96, 1]\n",
            "network2cr class_num 2 2\n",
            "network2cr model_file /content/brats17/model15/msnet_tc32cr_5000.ckpt /content/brats17/model15/msnet_tc32cr_5000.ckpt\n",
            "network3ax net_type MSNet MSNet\n",
            "network3ax net_name MSNet_EN32 MSNet_EN32\n",
            "network3ax downsample_twice False False\n",
            "network3ax data_shape [19, 96, 96, 4] [19, 96, 96, 4]\n",
            "network3ax label_shape [11, 96, 96, 1] [11, 96, 96, 1]\n",
            "network3ax class_num 3 3\n",
            "network3ax model_file /content/brats17/model15/msnet_en32_20000.ckpt /content/brats17/model15/msnet_en32_20000.ckpt\n",
            "network3sg net_type MSNet MSNet\n",
            "network3sg net_name MSNet_EN32sg MSNet_EN32sg\n",
            "network3sg downsample_twice False False\n",
            "network3sg data_shape [19, 96, 96, 4] [19, 96, 96, 4]\n",
            "network3sg label_shape [11, 96, 96, 1] [11, 96, 96, 1]\n",
            "network3sg class_num 3 3\n",
            "network3sg model_file /content/brats17/model15/msnet_en32sg_5000.ckpt /content/brats17/model15/msnet_en32sg_5000.ckpt\n",
            "network3cr net_type MSNet MSNet\n",
            "network3cr net_name MSNet_EN32cr MSNet_EN32cr\n",
            "network3cr downsample_twice False False\n",
            "network3cr data_shape [19, 96, 96, 4] [19, 96, 96, 4]\n",
            "network3cr label_shape [11, 96, 96, 1] [11, 96, 96, 1]\n",
            "network3cr class_num 3 3\n",
            "network3cr model_file /content/brats17/model15/msnet_en32cr_5000.ckpt /content/brats17/model15/msnet_en32cr_5000.ckpt\n",
            "testing test_slice_direction all all\n",
            "2020-10-21 05:29:35.594774: I tensorflow/core/platform/cpu_feature_guard.cc:137] Your CPU supports instructions that this TensorFlow binary was not compiled to use: SSE4.1 SSE4.2 AVX AVX2 FMA\n",
            "Traceback (most recent call last):\n",
            "  File \"/content/brats17/test.py\", line 459, in <module>\n",
            "    test(config_file)\n",
            "  File \"/content/brats17/test.py\", line 299, in test\n",
            "    dataloader.load_data()\n",
            "  File \"/content/brats17/util/data_loader.py\", line 101, in load_data\n",
            "    volume, volume_name = self.__load_one_volume(self.patient_names[i], self.modality_postfix[mod_idx])\n",
            "  File \"/content/brats17/util/data_loader.py\", line 73, in __load_one_volume\n",
            "    img_file_dirs = os.listdir(patient_dir)\n",
            "FileNotFoundError: [Errno 2] No such file or directory: '/content/Testing/HGG/brats_tcia_pat417_0001'\n"
          ],
          "name": "stdout"
        }
      ]
    },
    {
      "cell_type": "code",
      "metadata": {
        "id": "31qmbW3AjllO"
      },
      "source": [
        ""
      ],
      "execution_count": null,
      "outputs": []
    },
    {
      "cell_type": "code",
      "metadata": {
        "id": "5PPAlBo6hJcj"
      },
      "source": [
        "!python /content/brats17/train.py /content/brats17/config15/train_wt_ax.txt\n",
        "\n"
      ],
      "execution_count": null,
      "outputs": []
    }
  ]
}